{
  "nbformat": 4,
  "nbformat_minor": 0,
  "metadata": {
    "colab": {
      "name": "practice.ipynb",
      "provenance": [],
      "collapsed_sections": [
        "waUjym0jsjOR",
        "0VeBvJKX_Ab5",
        "a9DkzBS2-6Yd",
        "-MGim20EDVdU"
      ]
    },
    "kernelspec": {
      "name": "python3",
      "display_name": "Python 3"
    },
    "language_info": {
      "name": "python"
    }
  },
  "cells": [
    {
      "cell_type": "markdown",
      "metadata": {
        "id": "LYzqlYPk3jyJ"
      },
      "source": [
        "# OS 패키지 관련 예제"
      ]
    },
    {
      "cell_type": "code",
      "metadata": {
        "id": "xRlh4XR6JS1m"
      },
      "source": [
        "import os\n",
        "import shutil"
      ],
      "execution_count": null,
      "outputs": []
    },
    {
      "cell_type": "code",
      "metadata": {
        "colab": {
          "base_uri": "https://localhost:8080/"
        },
        "id": "JUzavWGLJ3jn",
        "outputId": "eee2e72d-5214-46e7-8083-256beddd27bf"
      },
      "source": [
        "!pwd\n",
        "\n",
        "# os.getcwd() #현재 수행하는 디렉토리 받아오기\n",
        "# os.chdir(path) #해당하는 폴더로 수행 디렉토리 변경\n",
        "# os.listdir(path='.')  #해당 폴더 내부의 파일/폴더의 리스트를 보여줌\n",
        "# os.mkdir() --> os.makedirs()  :  폴더가 있어도 에러가 안나게 할 수 있음\n",
        "# os.rmdir() --> shutil.rmtree() : 중간에 파일이 있는 경우\n",
        "# os.rename --> os.renames()  :  중간에 임시 폴더를 만듦\n",
        "# os.walk() :  폴더를 하위단까지 순회함\n",
        "# os.path.join()  \n",
        "# os.path.exists()"
      ],
      "execution_count": null,
      "outputs": [
        {
          "output_type": "stream",
          "text": [
            "/content\n"
          ],
          "name": "stdout"
        }
      ]
    },
    {
      "cell_type": "markdown",
      "metadata": {
        "id": "P-FWPRDTeiKg"
      },
      "source": [
        "https://docs.python.org/ko/3/library/os.html  "
      ]
    },
    {
      "cell_type": "markdown",
      "metadata": {
        "id": "dSk9SLDhc3Sb"
      },
      "source": [
        "## 디렉토리 생성 및 기본 폴더 변경 (chdir 사용에 대한 라이브 코딩)"
      ]
    },
    {
      "cell_type": "code",
      "metadata": {
        "id": "BI4Tu2CMM4QK",
        "colab": {
          "base_uri": "https://localhost:8080/"
        },
        "outputId": "5e017b3f-6d1f-4359-aa67-1e9ac726a22b"
      },
      "source": [
        "os.makedirs('./test', exist_ok=True)  #  exist_ok 가 true 이면 폴더가 있어도 에러가 안남\n",
        "os.chdir(\"./test\")  #  현재 동작하는 폴더를 변경  \n",
        "print(os.getcwd())\n"
      ],
      "execution_count": null,
      "outputs": [
        {
          "output_type": "stream",
          "text": [
            "/content/test\n"
          ],
          "name": "stdout"
        }
      ]
    },
    {
      "cell_type": "code",
      "metadata": {
        "id": "b34yEpVncsN0"
      },
      "source": [
        "os.chdir(\"../\")\n",
        "os.makedirs('./test', exist_ok=False) # False로 놓으면 에러 발생"
      ],
      "execution_count": null,
      "outputs": []
    },
    {
      "cell_type": "code",
      "metadata": {
        "colab": {
          "base_uri": "https://localhost:8080/"
        },
        "id": "GSUvRIJehUBT",
        "outputId": "f3a04def-23c9-42cc-b7b7-311622f86a38"
      },
      "source": [
        "os.makedirs('./test', exist_ok=True) # True 놓으면 에러 발생\n",
        "print(os.getcwd())"
      ],
      "execution_count": null,
      "outputs": [
        {
          "output_type": "stream",
          "text": [
            "/content\n"
          ],
          "name": "stdout"
        }
      ]
    },
    {
      "cell_type": "markdown",
      "metadata": {
        "id": "cHRB_3TLdM1j"
      },
      "source": [
        "## **디렉토리 리스트 조회**"
      ]
    },
    {
      "cell_type": "code",
      "metadata": {
        "colab": {
          "base_uri": "https://localhost:8080/",
          "height": 241
        },
        "id": "Bpn7hj9ddK-N",
        "outputId": "147a54ec-1457-4093-d57a-eb0d8a1787c3"
      },
      "source": [
        "list_files  =  sorted(os.listdir('./sample_data'))\n",
        "print(list_files)\n",
        "print(os.path.exists('./sample_data/' + list_files[0]))\n",
        "print(os.path.isfile('./sample_data/' + list_files[1]))\n",
        "print(os.path.isfile('./sample_data/' + list_files[3]))\n",
        "print(os.path.isdir('./sample_data/' + list_files[3]))"
      ],
      "execution_count": null,
      "outputs": [
        {
          "output_type": "error",
          "ename": "NameError",
          "evalue": "ignored",
          "traceback": [
            "\u001b[0;31m---------------------------------------------------------------------------\u001b[0m",
            "\u001b[0;31mNameError\u001b[0m                                 Traceback (most recent call last)",
            "\u001b[0;32m<ipython-input-1-f26cfd71062d>\u001b[0m in \u001b[0;36m<module>\u001b[0;34m()\u001b[0m\n\u001b[0;32m----> 1\u001b[0;31m \u001b[0mlist_files\u001b[0m  \u001b[0;34m=\u001b[0m  \u001b[0msorted\u001b[0m\u001b[0;34m(\u001b[0m\u001b[0mos\u001b[0m\u001b[0;34m.\u001b[0m\u001b[0mlistdir\u001b[0m\u001b[0;34m(\u001b[0m\u001b[0;34m'./sample_data'\u001b[0m\u001b[0;34m)\u001b[0m\u001b[0;34m)\u001b[0m\u001b[0;34m\u001b[0m\u001b[0;34m\u001b[0m\u001b[0m\n\u001b[0m\u001b[1;32m      2\u001b[0m \u001b[0mprint\u001b[0m\u001b[0;34m(\u001b[0m\u001b[0mlist_files\u001b[0m\u001b[0;34m)\u001b[0m\u001b[0;34m\u001b[0m\u001b[0;34m\u001b[0m\u001b[0m\n\u001b[1;32m      3\u001b[0m \u001b[0mprint\u001b[0m\u001b[0;34m(\u001b[0m\u001b[0mos\u001b[0m\u001b[0;34m.\u001b[0m\u001b[0mpath\u001b[0m\u001b[0;34m.\u001b[0m\u001b[0mexists\u001b[0m\u001b[0;34m(\u001b[0m\u001b[0;34m'./sample_data/'\u001b[0m \u001b[0;34m+\u001b[0m \u001b[0mlist_files\u001b[0m\u001b[0;34m[\u001b[0m\u001b[0;36m0\u001b[0m\u001b[0;34m]\u001b[0m\u001b[0;34m)\u001b[0m\u001b[0;34m)\u001b[0m\u001b[0;34m\u001b[0m\u001b[0;34m\u001b[0m\u001b[0m\n\u001b[1;32m      4\u001b[0m \u001b[0mprint\u001b[0m\u001b[0;34m(\u001b[0m\u001b[0mos\u001b[0m\u001b[0;34m.\u001b[0m\u001b[0mpath\u001b[0m\u001b[0;34m.\u001b[0m\u001b[0misfile\u001b[0m\u001b[0;34m(\u001b[0m\u001b[0;34m'./sample_data/'\u001b[0m \u001b[0;34m+\u001b[0m \u001b[0mlist_files\u001b[0m\u001b[0;34m[\u001b[0m\u001b[0;36m1\u001b[0m\u001b[0;34m]\u001b[0m\u001b[0;34m)\u001b[0m\u001b[0;34m)\u001b[0m\u001b[0;34m\u001b[0m\u001b[0;34m\u001b[0m\u001b[0m\n\u001b[1;32m      5\u001b[0m \u001b[0mprint\u001b[0m\u001b[0;34m(\u001b[0m\u001b[0mos\u001b[0m\u001b[0;34m.\u001b[0m\u001b[0mpath\u001b[0m\u001b[0;34m.\u001b[0m\u001b[0misfile\u001b[0m\u001b[0;34m(\u001b[0m\u001b[0;34m'./sample_data/'\u001b[0m \u001b[0;34m+\u001b[0m \u001b[0mlist_files\u001b[0m\u001b[0;34m[\u001b[0m\u001b[0;36m3\u001b[0m\u001b[0;34m]\u001b[0m\u001b[0;34m)\u001b[0m\u001b[0;34m)\u001b[0m\u001b[0;34m\u001b[0m\u001b[0;34m\u001b[0m\u001b[0m\n",
            "\u001b[0;31mNameError\u001b[0m: name 'os' is not defined"
          ]
        }
      ]
    },
    {
      "cell_type": "markdown",
      "metadata": {
        "id": "0BhPUtHQksmM"
      },
      "source": [
        "## **폴더 생성과 삭제**"
      ]
    },
    {
      "cell_type": "code",
      "metadata": {
        "id": "meMBC9Ucf7nR"
      },
      "source": [
        "os.makedirs('./test', exist_ok=True)\n",
        "os.makedirs('./test/test', exist_ok=True)\n",
        "os.rmdir('./test') # 폴더 내에 무언가 들어있으면 에러가 발생합니다.."
      ],
      "execution_count": null,
      "outputs": []
    },
    {
      "cell_type": "code",
      "metadata": {
        "id": "tRgJR82egBxK"
      },
      "source": [
        "shutil.rmtree('./test') # shutil은 파일 복사 삭제 등의 고수준 기능을 지원하는 패키지입니다.."
      ],
      "execution_count": null,
      "outputs": []
    },
    {
      "cell_type": "markdown",
      "metadata": {
        "id": "JJGei3rfwv6r"
      },
      "source": [
        "## 파일 이름 변경"
      ]
    },
    {
      "cell_type": "code",
      "metadata": {
        "id": "CgZ4ZgmHwvGI"
      },
      "source": [
        "os.renames('./sample_data/README.md', './sample_data/READYOU.md')\n",
        "os.renames('./sample_data/mnist_test.csv', './a.csv') # shutil.move 등 다양한 함수로 해당 기능을 만들어낼 수 있음"
      ],
      "execution_count": null,
      "outputs": []
    },
    {
      "cell_type": "markdown",
      "metadata": {
        "id": "0mjU1vDyiOnE"
      },
      "source": [
        "## **os.walk --> 폴더를 순회하는 Generator**"
      ]
    },
    {
      "cell_type": "code",
      "metadata": {
        "id": "8EyDugT3gmFc"
      },
      "source": [
        "for root, _, files in os.walk('./sample_data/'):\n",
        "    for file in files:\n",
        "        if(file.endswith(\".md\")):\n",
        "            os.remove(os.path.join(root,file))"
      ],
      "execution_count": null,
      "outputs": []
    },
    {
      "cell_type": "markdown",
      "metadata": {
        "id": "WmFwJJryldGQ"
      },
      "source": [
        "실습 1  :  본인의 특정 폴더에 있는 파일앞에 모두 test_ 를 붙여보기"
      ]
    },
    {
      "cell_type": "markdown",
      "metadata": {
        "id": "PpMAeajbmY22"
      },
      "source": [
        "실습 2: 본인의 특정 폴더에 있는 파일중 특정 확장자를 가진 파일만 다른 폴더로 옮겨보기"
      ]
    },
    {
      "cell_type": "markdown",
      "metadata": {
        "id": "waUjym0jsjOR"
      },
      "source": [
        "## 추가로 설명하고 싶은 것"
      ]
    },
    {
      "cell_type": "code",
      "metadata": {
        "id": "VgHpWartJ6ZA",
        "colab": {
          "base_uri": "https://localhost:8080/"
        },
        "outputId": "6ad3cd76-6cc8-4104-d0a6-1e8a14604463"
      },
      "source": [
        "# sorting\n",
        "a = [2,3,4,1]\n",
        "b = [2,3,4,1]\n",
        "\n",
        "a.sort(reverse=True)\n",
        "x = sorted(b, reverse=True)\n",
        "\n",
        "print(a)\n",
        "print(b)\n",
        "print(x)"
      ],
      "execution_count": 39,
      "outputs": [
        {
          "output_type": "stream",
          "text": [
            "[4, 3, 2, 1]\n",
            "[2, 3, 4, 1]\n",
            "[4, 3, 2, 1]\n"
          ],
          "name": "stdout"
        }
      ]
    },
    {
      "cell_type": "code",
      "metadata": {
        "id": "Xs7PzoavNOmh",
        "colab": {
          "base_uri": "https://localhost:8080/"
        },
        "outputId": "d3b4b4d8-7ef7-4756-ee28-8a2d84f20f82"
      },
      "source": [
        "# list comprehension\n",
        "list_gen_with_for = []\n",
        "for i in range(10):\n",
        "  list_gen_with_for.append(i)\n",
        "\n",
        "list_gen_with_comp = [x for x in range(10)]\n",
        "\n",
        "print(list_gen_with_for)\n",
        "print(list_gen_with_comp)"
      ],
      "execution_count": 40,
      "outputs": [
        {
          "output_type": "stream",
          "text": [
            "[0, 1, 2, 3, 4, 5, 6, 7, 8, 9]\n",
            "[0, 1, 2, 3, 4, 5, 6, 7, 8, 9]\n"
          ],
          "name": "stdout"
        }
      ]
    },
    {
      "cell_type": "markdown",
      "metadata": {
        "id": "0vOsEhvK3B83"
      },
      "source": [
        "#  text tools (konlpy, word cloud, doc file)\n"
      ]
    },
    {
      "cell_type": "markdown",
      "metadata": {
        "id": "0VeBvJKX_Ab5"
      },
      "source": [
        "##  Konlpy : https://konlpy-ko.readthedocs.io/ko/v0.4.3/"
      ]
    },
    {
      "cell_type": "code",
      "metadata": {
        "colab": {
          "base_uri": "https://localhost:8080/"
        },
        "id": "IaBAeLRs3bYI",
        "outputId": "c57b1f22-6af5-412b-88be-a2dd5c2f1cd9"
      },
      "source": [
        "!pip install konlpy # install 해야 함"
      ],
      "execution_count": null,
      "outputs": [
        {
          "output_type": "stream",
          "text": [
            "Collecting konlpy\n",
            "\u001b[?25l  Downloading https://files.pythonhosted.org/packages/85/0e/f385566fec837c0b83f216b2da65db9997b35dd675e107752005b7d392b1/konlpy-0.5.2-py2.py3-none-any.whl (19.4MB)\n",
            "\u001b[K     |████████████████████████████████| 19.4MB 1.5MB/s \n",
            "\u001b[?25hRequirement already satisfied: tweepy>=3.7.0 in /usr/local/lib/python3.7/dist-packages (from konlpy) (3.10.0)\n",
            "Requirement already satisfied: lxml>=4.1.0 in /usr/local/lib/python3.7/dist-packages (from konlpy) (4.2.6)\n",
            "Collecting colorama\n",
            "  Downloading https://files.pythonhosted.org/packages/44/98/5b86278fbbf250d239ae0ecb724f8572af1c91f4a11edf4d36a206189440/colorama-0.4.4-py2.py3-none-any.whl\n",
            "Requirement already satisfied: numpy>=1.6 in /usr/local/lib/python3.7/dist-packages (from konlpy) (1.19.5)\n",
            "Collecting JPype1>=0.7.0\n",
            "\u001b[?25l  Downloading https://files.pythonhosted.org/packages/cd/a5/9781e2ef4ca92d09912c4794642c1653aea7607f473e156cf4d423a881a1/JPype1-1.2.1-cp37-cp37m-manylinux2010_x86_64.whl (457kB)\n",
            "\u001b[K     |████████████████████████████████| 460kB 39.1MB/s \n",
            "\u001b[?25hCollecting beautifulsoup4==4.6.0\n",
            "\u001b[?25l  Downloading https://files.pythonhosted.org/packages/9e/d4/10f46e5cfac773e22707237bfcd51bbffeaf0a576b0a847ec7ab15bd7ace/beautifulsoup4-4.6.0-py3-none-any.whl (86kB)\n",
            "\u001b[K     |████████████████████████████████| 92kB 10.1MB/s \n",
            "\u001b[?25hRequirement already satisfied: six>=1.10.0 in /usr/local/lib/python3.7/dist-packages (from tweepy>=3.7.0->konlpy) (1.15.0)\n",
            "Requirement already satisfied: requests-oauthlib>=0.7.0 in /usr/local/lib/python3.7/dist-packages (from tweepy>=3.7.0->konlpy) (1.3.0)\n",
            "Requirement already satisfied: requests[socks]>=2.11.1 in /usr/local/lib/python3.7/dist-packages (from tweepy>=3.7.0->konlpy) (2.23.0)\n",
            "Requirement already satisfied: typing-extensions; python_version < \"3.8\" in /usr/local/lib/python3.7/dist-packages (from JPype1>=0.7.0->konlpy) (3.7.4.3)\n",
            "Requirement already satisfied: oauthlib>=3.0.0 in /usr/local/lib/python3.7/dist-packages (from requests-oauthlib>=0.7.0->tweepy>=3.7.0->konlpy) (3.1.0)\n",
            "Requirement already satisfied: chardet<4,>=3.0.2 in /usr/local/lib/python3.7/dist-packages (from requests[socks]>=2.11.1->tweepy>=3.7.0->konlpy) (3.0.4)\n",
            "Requirement already satisfied: idna<3,>=2.5 in /usr/local/lib/python3.7/dist-packages (from requests[socks]>=2.11.1->tweepy>=3.7.0->konlpy) (2.10)\n",
            "Requirement already satisfied: urllib3!=1.25.0,!=1.25.1,<1.26,>=1.21.1 in /usr/local/lib/python3.7/dist-packages (from requests[socks]>=2.11.1->tweepy>=3.7.0->konlpy) (1.24.3)\n",
            "Requirement already satisfied: certifi>=2017.4.17 in /usr/local/lib/python3.7/dist-packages (from requests[socks]>=2.11.1->tweepy>=3.7.0->konlpy) (2020.12.5)\n",
            "Requirement already satisfied: PySocks!=1.5.7,>=1.5.6; extra == \"socks\" in /usr/local/lib/python3.7/dist-packages (from requests[socks]>=2.11.1->tweepy>=3.7.0->konlpy) (1.7.1)\n",
            "Installing collected packages: colorama, JPype1, beautifulsoup4, konlpy\n",
            "  Found existing installation: beautifulsoup4 4.6.3\n",
            "    Uninstalling beautifulsoup4-4.6.3:\n",
            "      Successfully uninstalled beautifulsoup4-4.6.3\n",
            "Successfully installed JPype1-1.2.1 beautifulsoup4-4.6.0 colorama-0.4.4 konlpy-0.5.2\n"
          ],
          "name": "stdout"
        }
      ]
    },
    {
      "cell_type": "code",
      "metadata": {
        "id": "bu2zDUjd6yrM"
      },
      "source": [
        "from konlpy.tag import Kkma\n",
        "from konlpy.utils import pprint\n",
        "kkma = Kkma()"
      ],
      "execution_count": null,
      "outputs": []
    },
    {
      "cell_type": "code",
      "metadata": {
        "colab": {
          "base_uri": "https://localhost:8080/"
        },
        "id": "JqwpK0Vg7Ywq",
        "outputId": "61ba0a89-919f-41c6-dc6e-6070fa848f7c"
      },
      "source": [
        "text = \"안녕하세요 저는 의료 인공지능에 종사하는 사람입니다.\"\n",
        "\n",
        "print(kkma.nouns(text))\n",
        "print(kkma.pos(text))\n",
        "print(kkma.morphs(text))"
      ],
      "execution_count": null,
      "outputs": [
        {
          "output_type": "stream",
          "text": [
            "['안녕', '저', '의료', '인공', '인공지능', '지능', '종사', '사람']\n",
            "[('안녕', 'NNG'), ('하', 'XSV'), ('세요', 'EFN'), ('저', 'NP'), ('는', 'JX'), ('의료', 'NNG'), ('인공지능', 'NNG'), ('에', 'JKM'), ('종사', 'NNG'), ('하', 'XSV'), ('는', 'ETD'), ('사람', 'NNG'), ('이', 'VCP'), ('ㅂ니다', 'EFN'), ('.', 'SF')]\n",
            "['안녕', '하', '세요', '저', '는', '의료', '인공지능', '에', '종사', '하', '는', '사람', '이', 'ㅂ니다', '.']\n"
          ],
          "name": "stdout"
        }
      ]
    },
    {
      "cell_type": "markdown",
      "metadata": {
        "id": "a9DkzBS2-6Yd"
      },
      "source": [
        "## Word cloud :  https://github.com/amueller/word_cloud"
      ]
    },
    {
      "cell_type": "code",
      "metadata": {
        "id": "ulP0zlm2Nuyj"
      },
      "source": [
        "word_cloud_text= '''\n",
        "t wasn't long ago that real estate experts were bracing for the worst.\n",
        "The coronavirus pandemic had sent large parts of the world into lockdown, shuttering businesses, costing tens of millions of workers their jobs and putting the housing market into a deep freeze. The number of people asking lenders for more time on their mortgage payments surged as the global recession hit.\n",
        "\"This time last year we thought it was going to be 2008 all over again,\" said Kate Everett-Allen, the head of international residential research at real estate consultancy Knight Frank.\n",
        "The fear was that house prices would collapse, as they reliably had done in past economic downturns. An increase in bankruptcies and unemployment would squeeze disposable incomes and make it difficult for highly indebted homeowners to keep up with their mortgages.\n",
        "Those fortunate enough to own second homes would be forced to sell to build up cash reserves, putting even more downward pressure on prices.\n",
        "\"Actually, none of that happened,\" added Everett-Allen.\n",
        "Instead, house prices soared even as the world suffered its worst slump since the Great Depression. From New Zealand to the United States, Germany, China and Peru, the same phenomenon has taken hold: home prices are skyrocketing, and many buyers are panicking.\n",
        "'''"
      ],
      "execution_count": null,
      "outputs": []
    },
    {
      "cell_type": "code",
      "metadata": {
        "id": "M6fDPe1C8RCT"
      },
      "source": [
        "import wordcloud\n",
        "import matplotlib.pyplot as plt\n",
        "import matplotlib.font_manager as fm\n",
        "wordcloud_example = wordcloud.WordCloud(max_font_size=40).generate(word_cloud_text)"
      ],
      "execution_count": null,
      "outputs": []
    },
    {
      "cell_type": "markdown",
      "metadata": {
        "id": "jRaHB3cXBytK"
      },
      "source": [
        ""
      ]
    },
    {
      "cell_type": "code",
      "metadata": {
        "colab": {
          "base_uri": "https://localhost:8080/",
          "height": 216
        },
        "id": "WesbiuPH_UAA",
        "outputId": "cdca1b12-7509-420f-ff7c-a72b0fc26bd1"
      },
      "source": [
        "fig = plt.figure()\n",
        "plt.imshow(wordcloud_example, interpolation='bilinear')\n",
        "plt.axis('off')"
      ],
      "execution_count": null,
      "outputs": [
        {
          "output_type": "execute_result",
          "data": {
            "text/plain": [
              "(-0.5, 399.5, 199.5, -0.5)"
            ]
          },
          "metadata": {
            "tags": []
          },
          "execution_count": 38
        },
        {
          "output_type": "display_data",
          "data": {
            "image/png": "[encoded data removed]",
            "text/plain": [
              "<Figure size 432x288 with 1 Axes>"
            ]
          },
          "metadata": {
            "tags": [],
            "needs_background": "light"
          }
        }
      ]
    },
    {
      "cell_type": "markdown",
      "metadata": {
        "id": "8q6rOrElAXPj"
      },
      "source": [
        "Homework 1 :  한글로 워드 클라우드 만들어보기 (wordcloud 인스턴스 생성시에 font_path를 지정하면 됩니다.)"
      ]
    },
    {
      "cell_type": "markdown",
      "metadata": {
        "id": "-MGim20EDVdU"
      },
      "source": [
        "## Doc 파일 읽기 : https://python-docx.readthedocs.io/en/latest/"
      ]
    },
    {
      "cell_type": "code",
      "metadata": {
        "id": "iD9pZKuiHw1k"
      },
      "source": [
        "!pip install python-docx\n",
        "from docx import Document"
      ],
      "execution_count": null,
      "outputs": []
    },
    {
      "cell_type": "code",
      "metadata": {
        "id": "aQGanGZDIzdH"
      },
      "source": [
        "doc = Document('./practice.docx')\n",
        "text = [p.text for p in doc.paragraphs]\n",
        "\n",
        "print(len(text))\n",
        "print(text[2])"
      ],
      "execution_count": null,
      "outputs": []
    },
    {
      "cell_type": "markdown",
      "metadata": {
        "id": "v1Mzpj4T5sV9"
      },
      "source": [
        "제목도 넣을 수 있고,  테이블도 만들수 있고 다양한 기능을 수행할 수 있습니다."
      ]
    },
    {
      "cell_type": "markdown",
      "metadata": {
        "id": "w0Pgkq0C3t3G"
      },
      "source": [
        "#  excel 데이터 조작(openpyxl) : https://openpyxl.readthedocs.io/en/stable/"
      ]
    },
    {
      "cell_type": "code",
      "metadata": {
        "colab": {
          "base_uri": "https://localhost:8080/"
        },
        "id": "-TnJUCBe4mno",
        "outputId": "2ab35447-c96e-4895-9fa2-f9c8e568c894"
      },
      "source": [
        "!pip install openpyxl # colab에는 이미 설치되어있음"
      ],
      "execution_count": null,
      "outputs": [
        {
          "output_type": "stream",
          "text": [
            "Requirement already satisfied: openpyxl in /usr/local/lib/python3.7/dist-packages (2.5.9)\n",
            "Requirement already satisfied: et-xmlfile in /usr/local/lib/python3.7/dist-packages (from openpyxl) (1.1.0)\n",
            "Requirement already satisfied: jdcal in /usr/local/lib/python3.7/dist-packages (from openpyxl) (1.4.1)\n"
          ],
          "name": "stdout"
        }
      ]
    },
    {
      "cell_type": "code",
      "metadata": {
        "id": "90KVO1jA4Dg-"
      },
      "source": [
        "import openpyxl\n",
        "from openpyxl.comments import Comment\n",
        "file_name = \"excel_practice.xlsx\"\n",
        "book = openpyxl.load_workbook(file_name)\n",
        "sheet = book[\"Practice\"]\n"
      ],
      "execution_count": 43,
      "outputs": []
    },
    {
      "cell_type": "code",
      "metadata": {
        "colab": {
          "base_uri": "https://localhost:8080/"
        },
        "id": "zyzkXHAzz_Vn",
        "outputId": "07d2125a-6215-4204-a60f-fc06f20cb896"
      },
      "source": [
        "# 데이터 접근 방법의 2가지 종류 \n",
        "\n",
        "print(sheet[\"A1\"].value)  #  cell name\n",
        "print(sheet.cell(1, 1).value) # cell location"
      ],
      "execution_count": 44,
      "outputs": [
        {
          "output_type": "stream",
          "text": [
            "Sample Data\n",
            "Sample Data\n"
          ],
          "name": "stdout"
        }
      ]
    },
    {
      "cell_type": "code",
      "metadata": {
        "id": "xcyfxSzS0kuJ"
      },
      "source": [
        "sheet['A2'].value = 1000\n",
        "sheet['A3'].value = 500   #  값 집어넣기\n",
        "sheet['A2'].comment = Comment(\"author\", \"Hello world\")  #  comment 넣기\n",
        "sheet['A4'] = \"=A2+A3\" # 수식 넣기\n",
        "sheet.merge_cells('A5:I10')\n",
        "\n",
        "book.save(\"edited_\"+ file_name)"
      ],
      "execution_count": 45,
      "outputs": []
    },
    {
      "cell_type": "markdown",
      "metadata": {
        "id": "VIZ5gb1d5LeI"
      },
      "source": [
        ""
      ]
    }
  ]
}